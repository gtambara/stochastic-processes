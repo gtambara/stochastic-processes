{
 "cells": [
  {
   "cell_type": "markdown",
   "metadata": {},
   "source": [
    "#\n",
    "#   Stochastic Processes - class 1/2024 - University of Brasília\n",
    "#   Computational work 1 - Requantization and image analysis\n",
    "#\n",
    "#   Gabriel Tambara Rabelo - 241106461\n",
    "#\n",
    "#   References:\n",
    "#   https://docs.opencv.org/4.x/d1/db7/tutorial_py_histogram_begins.html\n",
    "#   https://docs.opencv.org/4.9.0/d4/d1b/tutorial_histogram_equalization.html\n",
    "#   https://docs.opencv.org/3.4/d1/d5c/tutorial_py_kmeans_opencv.html\n",
    "#"
   ]
  },
  {
   "cell_type": "code",
   "execution_count": null,
   "metadata": {},
   "outputs": [],
   "source": [
    "\n",
    "import cv2 as cv\n",
    "import numpy as np\n",
    "from matplotlib import pyplot as plt\n",
    "\n",
    "img_size = 300\n",
    "images_addr = [\"folha.jpg\", \"torso.png\", \"coisa.jpg\", \"cerebro.jpg\", \"cerebro-tumor.jpg\"]\n",
    "images_addr.sort()\n",
    "images = []\n",
    "\n",
    "# control of when to stop showing images and progressing in the processing\n",
    "def waitKey():\n",
    "    cv.waitKey(0)\n",
    "    cv.destroyAllWindows()\n",
    "\n",
    "# show images\n",
    "def printAll(list, subtitle):\n",
    "    for i in range(len(list)):\n",
    "        cv.imshow(images_addr[i] + subtitle, list[i])\n",
    "\n",
    "# save images in the correct folder\n",
    "def saveAll(list, subtitle):\n",
    "    for i in range(len(list)):\n",
    "        cv.imwrite(\"./images/\" + images_addr[i][0:-4] + subtitle + images_addr[i][-4:], list[i])\n",
    "\n",
    "def makeHist(image_list, bits):\n",
    "    histList = []\n",
    "    for i in range(len(image_list)):\n",
    "        hist = []\n",
    "        bins = np.arange(0, 257, 2 ** (8 - bits)) #257 since the bins must be 1 more than what it shows and we need even 1 more since arange excludes the last one\n",
    "\n",
    "        if(bits <= 0 or bits > 8):\n",
    "            print(\"bitsize our of bounds\")\n",
    "            exit()\n",
    "\n",
    "        image = image_list[i].flatten()\n",
    "        #for pixel_intensity in bins:\n",
    "        #    hist.append(np.sum(image == pixel_intensity))\n",
    "        #    print(str(hist[-1]))\n",
    "        hist, bins_new = np.histogram(image, bins=bins)\n",
    "\n",
    "        histList.append((hist, bins))\n",
    "    return histList\n",
    "\n",
    "def normalizeHist(histList):\n",
    "    normalizedHistList = []\n",
    "    for hist, bins in histList:\n",
    "        total_pixels = np.sum(hist)\n",
    "        normalized_hist = hist / (total_pixels)\n",
    "        normalizedHistList.append((normalized_hist, bins))\n",
    "    return normalizedHistList\n",
    "\n",
    "def showHist(image_list, histList, category, limit_bins=None, limit_overtext=True):\n",
    "    for i in range(len(image_list)):\n",
    "        hist = histList[i][0]\n",
    "        bins = histList[i][1]\n",
    "\n",
    "        if limit_bins is not None:\n",
    "            plt.xticks(bins[::len(bins)//limit_bins], bins[::len(bins)//limit_bins])\n",
    "        else:\n",
    "            plt.xticks(bins)\n",
    "\n",
    "        plt.bar(bins[:-1], hist, width=np.diff(bins), align='edge')\n",
    "\n",
    "        if limit_overtext == False:\n",
    "            for j in range(len(hist)):\n",
    "                plt.text(bins[j], hist[j], str(hist[j]), ha='center', va='bottom', rotation=30)\n",
    "\n",
    "        plt.xlabel('Bins')\n",
    "        plt.ylabel('Frequency')\n",
    "        plt.title('Histogram of ' + category + ' ' + images_addr[i][0:-4] + images_addr[i][-4:])\n",
    "        plt.savefig(\"./images/hist_\" + category + ' ' + images_addr[i][0:-4] + images_addr[i][-4:])\n",
    "        plt.show()\n",
    "\n",
    "# gerenate bits colored resolution image data from input with kmeans\n",
    "def kmeans(input, bits):\n",
    "    images_formatted = []\n",
    "    criteria = (cv.TERM_CRITERIA_EPS + cv.TERM_CRITERIA_MAX_ITER, 10, 1.0)\n",
    "\n",
    "    for i in range(len(input)):\n",
    "        images_formatted.append(np.float32(input[i]).reshape(-1, 3))\n",
    "        compactness, labels, center = cv.kmeans(images_formatted[i], 2**bits, None, criteria, 10, cv.KMEANS_RANDOM_CENTERS)\n",
    "        center = np.uint8(center)\n",
    "        final_img = center[labels.flatten()]\n",
    "        images_formatted[i] = final_img.reshape(input[i].shape)\n",
    "\n",
    "    return images_formatted\n",
    "\n",
    "def requantization(input, bits):\n",
    "    images_formatted = []\n",
    "\n",
    "    def normalize(x):\n",
    "        return x/255\n",
    "\n",
    "    def denormalize(x):\n",
    "        return (int)(255*x)\n",
    "\n",
    "    def quantize(x):\n",
    "        return denormalize((np.round((2**bits -1) * normalize(x)))/(2**bits -1))\n",
    "\n",
    "    for image in input:\n",
    "        images_formatted.append(np.vectorize(quantize)(image))\n",
    "    return images_formatted"
   ]
  },
  {
   "cell_type": "code",
   "execution_count": null,
   "metadata": {},
   "outputs": [],
   "source": [
    "# reading and viewing images in the folder\n",
    "\n",
    "for img in images_addr:\n",
    "    images.append((cv.imread(\"./images/\" + img)))\n",
    "    ratio = img_size / images[-1].shape[1]\n",
    "    images[-1] = cv.resize(images[-1], (img_size, int(images[-1].shape[0] * ratio)), cv.INTER_AREA)\n",
    "\n",
    "saveAll(images, '')\n",
    "waitKey()"
   ]
  },
  {
   "cell_type": "code",
   "execution_count": null,
   "metadata": {},
   "outputs": [],
   "source": [
    "# converting images to gray-scale format\n",
    "\n",
    "images_bw = []\n",
    "for i in range(len(images)):\n",
    "    images_bw.append(cv.cvtColor(images[i], cv.COLOR_BGR2GRAY))\n",
    "\n",
    "saveAll(images_bw, '')\n",
    "histList = makeHist(images_bw, 8)\n",
    "showHist(images_bw, histList, 'grey', 16, True)\n",
    "waitKey()"
   ]
  },
  {
   "cell_type": "code",
   "execution_count": null,
   "metadata": {},
   "outputs": [],
   "source": [
    "histList = normalizeHist(histList)\n",
    "showHist(images_bw, histList, 'grey_normal', 16, True)\n",
    "waitKey()"
   ]
  },
  {
   "cell_type": "code",
   "execution_count": null,
   "metadata": {},
   "outputs": [],
   "source": [
    "# using quantization with K-MEANS to reduce colors in images to 4 bits of resolution\n",
    "\n",
    "images_formatted = requantization(images_bw, 4)\n",
    "saveAll(images_formatted, \" in 4 bits\")\n",
    "histList = makeHist(images_formatted, 4)\n",
    "showHist(images_bw, histList, '4bts', 16, False)\n",
    "waitKey()"
   ]
  },
  {
   "cell_type": "code",
   "execution_count": null,
   "metadata": {},
   "outputs": [],
   "source": [
    "histList = normalizeHist(histList)\n",
    "showHist(images_bw, histList, '4bts_normal', 16, True)\n",
    "waitKey()"
   ]
  },
  {
   "cell_type": "code",
   "execution_count": null,
   "metadata": {},
   "outputs": [],
   "source": [
    "# repeating for 2 bits of resolution\n",
    "\n",
    "images_formatted = requantization(images_bw, 2)\n",
    "saveAll(images_formatted, \" in 2 bits\")\n",
    "histList = makeHist(images_formatted, 2)\n",
    "showHist(images_bw, histList, '2bts', 4, False)\n",
    "waitKey()"
   ]
  },
  {
   "cell_type": "code",
   "execution_count": null,
   "metadata": {},
   "outputs": [],
   "source": [
    "histList = normalizeHist(histList)\n",
    "showHist(images_bw, histList, '2bts_normal', 4, True)\n",
    "waitKey()"
   ]
  },
  {
   "cell_type": "code",
   "execution_count": null,
   "metadata": {},
   "outputs": [],
   "source": [
    "# repeating for 1 bit of resolution\n",
    "\n",
    "images_formatted = requantization(images_bw, 1)\n",
    "saveAll(images_formatted, \" in 1 bit\")\n",
    "histList = makeHist(images_formatted, 1)\n",
    "showHist(images_bw, histList, '1bts', 2, False)\n",
    "waitKey()"
   ]
  },
  {
   "cell_type": "code",
   "execution_count": null,
   "metadata": {},
   "outputs": [],
   "source": [
    "histList = normalizeHist(histList)\n",
    "showHist(images_bw, histList, '1nts_normal', 2, True)\n",
    "waitKey()"
   ]
  }
 ],
 "metadata": {
  "kernelspec": {
   "display_name": "Python 3",
   "language": "python",
   "name": "python3"
  },
  "language_info": {
   "codemirror_mode": {
    "name": "ipython",
    "version": 3
   },
   "file_extension": ".py",
   "mimetype": "text/x-python",
   "name": "python",
   "nbconvert_exporter": "python",
   "pygments_lexer": "ipython3",
   "version": "3.11.3"
  }
 },
 "nbformat": 4,
 "nbformat_minor": 2
}
